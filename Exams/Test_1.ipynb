{
  "nbformat": 4,
  "nbformat_minor": 0,
  "metadata": {
    "colab": {
      "provenance": [],
      "include_colab_link": true
    },
    "kernelspec": {
      "name": "python3",
      "display_name": "Python 3"
    },
    "language_info": {
      "name": "python"
    }
  },
  "cells": [
    {
      "cell_type": "markdown",
      "metadata": {
        "id": "view-in-github",
        "colab_type": "text"
      },
      "source": [
        "<a href=\"https://colab.research.google.com/github/jakeTHEEsnak8/Computational-Physics/blob/main/Exams/Test_1.ipynb\" target=\"_parent\"><img src=\"https://colab.research.google.com/assets/colab-badge.svg\" alt=\"Open In Colab\"/></a>"
      ]
    },
    {
      "cell_type": "markdown",
      "source": [
        "Computational Methods, Test 1"
      ],
      "metadata": {
        "id": "MPScCX481lZs"
      }
    },
    {
      "cell_type": "markdown",
      "source": [
        "1. (5 points) Use the following NumPy Arrays to evaluate the Python commands below:"
      ],
      "metadata": {
        "id": "8xDVwTe41ri-"
      }
    },
    {
      "cell_type": "markdown",
      "source": [
        "*italicized text*\n",
        "\n",
        "```\n",
        "x[3]\n",
        "\n",
        "x[:3]\n",
        "\n",
        "y[-1]\n",
        "\n",
        "y[y>4]\n",
        "\n",
        "x[y==8]\n",
        "```\n",
        "\n"
      ],
      "metadata": {
        "id": "k6vWnH2t1-W5"
      }
    },
    {
      "cell_type": "markdown",
      "source": [
        "*(Before question 2)\n",
        "x[3]: chooses the 3rd element of a list.\n",
        "x[:3]: chooses the last but not including the third element.\n",
        ".. y[-1] is a reverse order index it chooses the last element of index. y[y>4] where all selected elements of y are greater than 4.  x[y==8] where all elements in y are equal to x with an element number of 8*"
      ],
      "metadata": {
        "id": "6n6i6T4P5uDc"
      }
    },
    {
      "cell_type": "code",
      "source": [
        "import numpy as np\n",
        "x = np.array([3, 6, 7, 2, 0, 2, 5, 5])\n",
        "y = np.array([0, 5, 2, 8, 4, 5, 1, 8])\n",
        "\n",
        "# enter your code here\n",
        "print('The third element of the array in x :', x[3])\n",
        "print('Every element but not including the third element in x :',x[:3])\n",
        "print('Reverse indexing in y :',y[-1])\n",
        "print('Any element in y that is greater than 4:',y[y>4])\n",
        "print('all elements in y that are equal to x with an element number of 8',x[y==8])\n"
      ],
      "metadata": {
        "id": "TLpbZJd81yln",
        "outputId": "80e78b94-17e8-48c5-a642-219d17358236",
        "colab": {
          "base_uri": "https://localhost:8080/"
        }
      },
      "execution_count": 1,
      "outputs": [
        {
          "output_type": "stream",
          "name": "stdout",
          "text": [
            "The third element of the array in x : 2\n",
            "Every element but not including the third element in x : [3 6 7]\n",
            "Reverse indexing in y : 8\n",
            "Any element in y that is greater than 4: [5 8 5 8]\n",
            "all elements in y that are equal to x with an element number of 8 [2 5]\n"
          ]
        }
      ]
    },
    {
      "cell_type": "markdown",
      "source": [
        "2. (5 points) Write down the output of the following commands\n"
      ],
      "metadata": {
        "id": "QK1j6_Dh2TOB"
      }
    },
    {
      "cell_type": "code",
      "source": [
        "#the output for the following commands\n",
        "\n",
        "np.linspace(0,5,5) # the linspace will print an output of even spaces depending on input [0. 1. 2. 3. 4.]\n",
        "# it will print an output of even spaces of 5 from 0 to 5\n",
        "np.arange(0,10,2) #the arange command sets up an evenly spaced array from 0-10 with an interval of 2 [2. 4. 6. 8.]\n",
        "np.zeros((2,4))#numpy array of zeros as a 2x4 array [0 0 0 0] [0 0 0 0]"
      ],
      "metadata": {
        "id": "fTV2L2an2ZHq",
        "outputId": "66ebe1c3-2d85-473d-a630-63f65963bad3",
        "colab": {
          "base_uri": "https://localhost:8080/"
        }
      },
      "execution_count": 2,
      "outputs": [
        {
          "output_type": "execute_result",
          "data": {
            "text/plain": [
              "array([[0., 0., 0., 0.],\n",
              "       [0., 0., 0., 0.]])"
            ]
          },
          "metadata": {},
          "execution_count": 2
        }
      ]
    },
    {
      "cell_type": "markdown",
      "source": [
        "3. (5 points) Calculate the sum of the squares of integers from 1 to 100. Use any method.\n"
      ],
      "metadata": {
        "id": "NFZQkXpb2gvf"
      }
    },
    {
      "cell_type": "code",
      "source": [
        "integer = 0 #set the counter to be 0\n",
        "for i in range(1,101): # 1-100\n",
        "    integer += i**2 #add onto each number squared\n",
        "    print(integer) #prints numbers 1-100 squared"
      ],
      "metadata": {
        "id": "pD9xgrW3mjSC",
        "outputId": "b97b30a4-971b-4b0a-88bd-1eda82d91582",
        "colab": {
          "base_uri": "https://localhost:8080/"
        }
      },
      "execution_count": 3,
      "outputs": [
        {
          "output_type": "stream",
          "name": "stdout",
          "text": [
            "1\n",
            "5\n",
            "14\n",
            "30\n",
            "55\n",
            "91\n",
            "140\n",
            "204\n",
            "285\n",
            "385\n",
            "506\n",
            "650\n",
            "819\n",
            "1015\n",
            "1240\n",
            "1496\n",
            "1785\n",
            "2109\n",
            "2470\n",
            "2870\n",
            "3311\n",
            "3795\n",
            "4324\n",
            "4900\n",
            "5525\n",
            "6201\n",
            "6930\n",
            "7714\n",
            "8555\n",
            "9455\n",
            "10416\n",
            "11440\n",
            "12529\n",
            "13685\n",
            "14910\n",
            "16206\n",
            "17575\n",
            "19019\n",
            "20540\n",
            "22140\n",
            "23821\n",
            "25585\n",
            "27434\n",
            "29370\n",
            "31395\n",
            "33511\n",
            "35720\n",
            "38024\n",
            "40425\n",
            "42925\n",
            "45526\n",
            "48230\n",
            "51039\n",
            "53955\n",
            "56980\n",
            "60116\n",
            "63365\n",
            "66729\n",
            "70210\n",
            "73810\n",
            "77531\n",
            "81375\n",
            "85344\n",
            "89440\n",
            "93665\n",
            "98021\n",
            "102510\n",
            "107134\n",
            "111895\n",
            "116795\n",
            "121836\n",
            "127020\n",
            "132349\n",
            "137825\n",
            "143450\n",
            "149226\n",
            "155155\n",
            "161239\n",
            "167480\n",
            "173880\n",
            "180441\n",
            "187165\n",
            "194054\n",
            "201110\n",
            "208335\n",
            "215731\n",
            "223300\n",
            "231044\n",
            "238965\n",
            "247065\n",
            "255346\n",
            "263810\n",
            "272459\n",
            "281295\n",
            "290320\n",
            "299536\n",
            "308945\n",
            "318549\n",
            "328350\n",
            "338350\n"
          ]
        }
      ]
    },
    {
      "cell_type": "markdown",
      "source": [
        "4. (5 points) Given a Python list of integers A, create a new list B that only contains those elements of A that are positive. Use a for loop (not logical indexing).\n"
      ],
      "metadata": {
        "id": "5OjLlDzj2oGS"
      }
    },
    {
      "cell_type": "code",
      "source": [
        "A = []# assuming that we have a list of integers\n",
        "for b in A:\n",
        "    if b > 0:\n",
        "        print(\"Positive integers:\",b)\n"
      ],
      "metadata": {
        "id": "f_gZwt0y2tth",
        "outputId": "eda7ac97-de46-4263-89d7-fe3aa62a5c3d",
        "colab": {
          "base_uri": "https://localhost:8080/",
          "height": 176
        }
      },
      "execution_count": 4,
      "outputs": [
        {
          "output_type": "error",
          "ename": "NameError",
          "evalue": "name 'a' is not defined",
          "traceback": [
            "\u001b[0;31m---------------------------------------------------------------------------\u001b[0m",
            "\u001b[0;31mNameError\u001b[0m                                 Traceback (most recent call last)",
            "\u001b[0;32m/tmp/ipython-input-1702464940.py\u001b[0m in \u001b[0;36m<cell line: 0>\u001b[0;34m()\u001b[0m\n\u001b[0;32m----> 1\u001b[0;31m \u001b[0;32mfor\u001b[0m \u001b[0mb\u001b[0m \u001b[0;32min\u001b[0m \u001b[0ma\u001b[0m\u001b[0;34m:\u001b[0m\u001b[0;34m\u001b[0m\u001b[0;34m\u001b[0m\u001b[0m\n\u001b[0m\u001b[1;32m      2\u001b[0m     \u001b[0;32mif\u001b[0m \u001b[0mb\u001b[0m \u001b[0;34m>\u001b[0m \u001b[0;36m0\u001b[0m\u001b[0;34m:\u001b[0m\u001b[0;34m\u001b[0m\u001b[0;34m\u001b[0m\u001b[0m\n\u001b[1;32m      3\u001b[0m         \u001b[0mprint\u001b[0m\u001b[0;34m(\u001b[0m\u001b[0;34m\"Positive integers:\"\u001b[0m\u001b[0;34m,\u001b[0m\u001b[0mb\u001b[0m\u001b[0;34m)\u001b[0m\u001b[0;34m\u001b[0m\u001b[0;34m\u001b[0m\u001b[0m\n",
            "\u001b[0;31mNameError\u001b[0m: name 'a' is not defined"
          ]
        }
      ]
    },
    {
      "cell_type": "markdown",
      "source": [
        "5. (5 points) (a) Write down the output of the following Python program in the box below. Only show what will be printed."
      ],
      "metadata": {
        "id": "N3kpzvX42uif"
      }
    },
    {
      "cell_type": "code",
      "source": [
        "A = [1, -2, 3, -4, 5, -6]\n",
        "s1 = 0\n",
        "s2 = 0\n",
        "for n in A:\n",
        "     if n > 0:\n",
        "         s1 += n\n",
        "     else:\n",
        "         s2 += n\n",
        "     print(f'{n:2} {s1:2} {s2:2}')\n",
        "# 1 1 0\n",
        "# -2 -1 -2\n",
        "# 3 4 -2\n",
        "# -4 4 -6\n",
        "# 5 9 -6\n",
        "# -6 9 -12"
      ],
      "metadata": {
        "id": "-ukqMvnzIZTU"
      },
      "execution_count": null,
      "outputs": []
    },
    {
      "cell_type": "markdown",
      "source": [
        "6. (5 points) (a) Write down the output of the following Python program in the box below. Only show what will be printed.\n"
      ],
      "metadata": {
        "id": "qKi-ESMD3AMs"
      }
    },
    {
      "cell_type": "code",
      "source": [
        "s = 0 #initalized a counter\n",
        "for n in range(4): #going from 0 - 3\n",
        "    for x in range(n+1): #nested loop for our s as n represents our index\n",
        "       s += 1 #for indexes 0-3 the counter will increase by 2 because of n+1 for the range and +=1 increment for s\n",
        "    print(f'{n}  {s}')\n",
        "\n",
        "    # 0 1\n",
        "    # 1 3.\n",
        "    #2 6\n",
        "    # 3 10"
      ],
      "metadata": {
        "id": "IsVlg7yGJC6S"
      },
      "execution_count": null,
      "outputs": []
    },
    {
      "cell_type": "markdown",
      "source": [
        "(We have an initalied counter in place)\n",
        "\n",
        "index 0 it will be 1\n",
        "then for 1 it will add the previous index and add an increment of 1\n",
        "index 2 adds 3 from previous and an increment of 1 for the total to be 6. 3 the same way except it'll be 10. as a result\n",
        "\n",
        "\n",
        "(0,1)(1,3)(2,6)(3,10)"
      ],
      "metadata": {
        "id": "0Dp8UCUxqMZw"
      }
    },
    {
      "cell_type": "markdown",
      "source": [
        "7. (5 points) Write some Python code using the NumPy library to calculate the speed of an object in free fall:\n",
        "Prompt the user to enter the height $h$ from which the object is dropped.\n",
        "Calculate the velocity using $v=\\sqrt{2gh}$ , where $g=9.8$ m/s$^2$.\n",
        "Print a message displaying and labeling the velocity rounded to 2 decimal places\n",
        "Print a warning message if the speed exceeds half the speed of light, where $c=3\\times 10^8$ m/s. The message should read:  “The object is approaching the speed of light”."
      ],
      "metadata": {
        "id": "VL6rkGj33JEy"
      }
    },
    {
      "cell_type": "code",
      "source": [
        "import numpy as np\n",
        "h = int(input('Enter a height: '))\n",
        "g = 9.8\n",
        "v = np.sqrt(2*g*h)\n",
        "c = 3e8\n",
        "halfofc = 1.5e8\n",
        "d = float(halfofc)\n",
        "\n",
        "if v >= 6e7:\n",
        "    print(f'The velocity of this object is {v:.2f} m/s')\n"
      ],
      "metadata": {
        "id": "8Rf6kDcL3bLu",
        "colab": {
          "base_uri": "https://localhost:8080/"
        },
        "outputId": "69344cad-4412-47c8-b179-09b318ce2d10"
      },
      "execution_count": null,
      "outputs": [
        {
          "output_type": "stream",
          "name": "stdout",
          "text": [
            "Enter a height: 21342421\n",
            "The velocity of this object is 20452.66 m/s\n"
          ]
        }
      ]
    },
    {
      "cell_type": "markdown",
      "source": [
        "8. (5 points) Create a  NumPy array (100 rows and 4 columns) containing the following:\n",
        "* Column 1:  angle $\\theta$ - linearly spaced values between 0 and\n",
        "* Column 2: $\\sin \\theta$  \n",
        "* Column 3: $\\cos \\theta$\n",
        "* Column 4:  average of the values in columns 2 and 3"
      ],
      "metadata": {
        "id": "jOY79Luj3d4t"
      }
    },
    {
      "cell_type": "code",
      "source": [
        "import numpy as np\n",
        "\n",
        "theta_rad = np.linspace(0,2*np.pi,100)\n",
        "\n",
        "angle = theta_rad\n",
        "sin_theta = np.sin(theta_rad)\n",
        "cos_theta =  np.cos(theta_rad)\n",
        "avg = np.sin(theta_rad)/np.cos(theta_rad)\n",
        "data_set = np.column_stack((angle, sin_theta,cos_theta, avg))\n",
        "print(data_set)"
      ],
      "metadata": {
        "id": "T2pd44il-eNZ",
        "outputId": "7af97f9a-d8a1-4edf-cd6c-55df199e55ee",
        "colab": {
          "base_uri": "https://localhost:8080/",
          "height": 106
        }
      },
      "execution_count": 9,
      "outputs": [
        {
          "output_type": "error",
          "ename": "SyntaxError",
          "evalue": "invalid syntax. Perhaps you forgot a comma? (ipython-input-1602207412.py, line 9)",
          "traceback": [
            "\u001b[0;36m  File \u001b[0;32m\"/tmp/ipython-input-1602207412.py\"\u001b[0;36m, line \u001b[0;32m9\u001b[0m\n\u001b[0;31m    data_set = np.column_stack((angle, sin_theta,cos_theta avg))\u001b[0m\n\u001b[0m                                                 ^\u001b[0m\n\u001b[0;31mSyntaxError\u001b[0m\u001b[0;31m:\u001b[0m invalid syntax. Perhaps you forgot a comma?\n"
          ]
        }
      ]
    },
    {
      "cell_type": "markdown",
      "source": [
        "9. (5 points) In this problem, you will explore a random walk in which the motion of a particle is controlled by a coin toss. If the coin is heads, move one unit to the right (+1), if tails, move one unit to the left (–1). Here’s the procedure:\n",
        "* Ask the user to input the total number of steps for the random walk\n",
        "* Start the particle at the origin.\n",
        "* Pick a random number to move the particle left or right by one unit.\n",
        "* Repeat for a total of N steps\n",
        "* After the walk is complete, print the position of the particle\n",
        "\n",
        "     You can use any method you like to solve this problem"
      ],
      "metadata": {
        "id": "2WbX89BE3w1b"
      }
    },
    {
      "cell_type": "code",
      "source": [
        "# enter your code here\n",
        "import numpy as np\n",
        "rng = np.random.default_rng()\n",
        "total = int(input(\"enter thetotal number of steps: \"))\n",
        "origin = 0\n",
        "N_steps = 7\n",
        "l = rng.integers(low = 0, high = 1, endpoint = True, size = N_steps)\n",
        "#adding true to include the 1 in the random number generator\n",
        "dir = 2 * l-1\n",
        "final_pos = dir.sum()\n",
        "print(final_pos)"
      ],
      "metadata": {
        "id": "FtBYvZ9n3tft"
      },
      "execution_count": null,
      "outputs": []
    },
    {
      "cell_type": "markdown",
      "source": [
        "10. (5 points) The Liebnitz formula for pi is:\n",
        "\n",
        "$\\pi \\approx 4 \\sum_{k=o}^N \\frac{(-1)^k}{2k+1}  \\approx 4\\cdot \\left[ 1-\\frac{1}{3} + \\frac{1}{5} - \\frac{1}{7} + \\frac{1}{9}+ \\cdots \\right]$\n",
        "                             \n",
        "* Write some Python code that prompts the user for the upper limit on the summation N and calculates the series.\n",
        "* Calculate the percent error of your approximation:  $error=\\left| \\frac{estimate-actual}{actual} \\right|\\times 100\\%$\n",
        "\n",
        "* print your estimated value of pi and the percent error along with a descriptive message\n",
        "* Use any method you like."
      ],
      "metadata": {
        "id": "XGBijCBt4A3b"
      }
    },
    {
      "cell_type": "code",
      "source": [
        "# enter your code here\n",
        "upper_lim = N\n",
        "N = int(input(\"upper limit \"))\n",
        "k = int(input('Random number'))\n",
        "liebniz = 4*(-1)**k/2*k+1\n",
        "percent_error = np.abs(liebniz-N/N)*100\n",
        "print(\"Your estimated value: \",leibniz,' and percent error',percent_error)\n"
      ],
      "metadata": {
        "id": "u-5wiTjr4dHC"
      },
      "execution_count": null,
      "outputs": []
    }
  ]
}