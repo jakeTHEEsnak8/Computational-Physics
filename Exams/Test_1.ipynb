{
  "nbformat": 4,
  "nbformat_minor": 0,
  "metadata": {
    "colab": {
      "provenance": [],
      "include_colab_link": true
    },
    "kernelspec": {
      "name": "python3",
      "display_name": "Python 3"
    },
    "language_info": {
      "name": "python"
    }
  },
  "cells": [
    {
      "cell_type": "markdown",
      "metadata": {
        "id": "view-in-github",
        "colab_type": "text"
      },
      "source": [
        "<a href=\"https://colab.research.google.com/github/jakeTHEEsnak8/Computational-Physics/blob/main/Exams/Test_1.ipynb\" target=\"_parent\"><img src=\"https://colab.research.google.com/assets/colab-badge.svg\" alt=\"Open In Colab\"/></a>"
      ]
    },
    {
      "cell_type": "markdown",
      "source": [
        "Computational Methods, Test 1"
      ],
      "metadata": {
        "id": "MPScCX481lZs"
      }
    },
    {
      "cell_type": "markdown",
      "source": [
        "1. (5 points) Use the following NumPy Arrays to evaluate the Python commands below:"
      ],
      "metadata": {
        "id": "8xDVwTe41ri-"
      }
    },
    {
      "cell_type": "markdown",
      "source": [
        "*italicized text*\n",
        "\n",
        "```\n",
        "x[3]\n",
        "\n",
        "x[:3]\n",
        "\n",
        "y[-1]\n",
        "\n",
        "y[y>4]\n",
        "\n",
        "x[y==8]\n",
        "```\n",
        "\n"
      ],
      "metadata": {
        "id": "k6vWnH2t1-W5"
      }
    },
    {
      "cell_type": "markdown",
      "source": [
        "*(Before question 2)\n",
        "x[3]: chooses the 3rd element of a list.\n",
        "x[:3]: chooses the last but not including the third element.\n",
        ".. y[-1] is a reverse order index it chooses the last element of index. y[y>4] where all selected elements of y are greater than 4.  x[y==8] where all elements in y are equal to x with an element number of 8*"
      ],
      "metadata": {
        "id": "6n6i6T4P5uDc"
      }
    },
    {
      "cell_type": "code",
      "source": [
        "import numpy as np\n",
        "x = np.array([3, 6, 7, 2, 0, 2, 5, 5])\n",
        "y = np.array([0, 5, 2, 8, 4, 5, 1, 8])\n",
        "\n",
        "# enter your code here\n",
        "print('The third element of the array in x :', x[3])\n",
        "print('Every element but not including the third element in x :',x[:3])\n",
        "print('Reverse indexing in y :',y[-1])\n",
        "print('Any element in y that is greater than 4:',y[y>4])\n",
        "print('all elements in y that are equal to x with an element number of 8',x[y==8])\n"
      ],
      "metadata": {
        "id": "TLpbZJd81yln",
        "outputId": "72a60814-6310-45b1-a3ff-db345b3a2e3b",
        "colab": {
          "base_uri": "https://localhost:8080/"
        }
      },
      "execution_count": 2,
      "outputs": [
        {
          "output_type": "stream",
          "name": "stdout",
          "text": [
            "The third element of the array in x : 2\n",
            "Every element but not including the third element in x : [3 6 7]\n",
            "Reverse indexing in y : 8\n",
            "Any element in y that is greater than 4: [5 8 5 8]\n",
            "all elements in y that are equal to x with an element number of 8 [2 5]\n"
          ]
        }
      ]
    },
    {
      "cell_type": "markdown",
      "source": [
        "2. (5 points) Write down the output of the following commands\n"
      ],
      "metadata": {
        "id": "QK1j6_Dh2TOB"
      }
    },
    {
      "cell_type": "code",
      "source": [
        "#the output for the following commands\n",
        "\n",
        "np.linspace(0,5,5) # the linspace will print an output of even spaces depending on input\n",
        "# it will print an output of even spaces of 5 from 0 to 5\n",
        "np.arange(0,10,2) #the arange command sets up an evenly spaced array from 0-10 with an interval of 2\n",
        "np.zeros((2,4))#numpy array of zeros as a 2x4 array"
      ],
      "metadata": {
        "id": "fTV2L2an2ZHq",
        "outputId": "b2dbdb61-022b-42b4-b153-b2d7644d7ac6",
        "colab": {
          "base_uri": "https://localhost:8080/"
        }
      },
      "execution_count": 3,
      "outputs": [
        {
          "output_type": "execute_result",
          "data": {
            "text/plain": [
              "array([[0., 0., 0., 0.],\n",
              "       [0., 0., 0., 0.]])"
            ]
          },
          "metadata": {},
          "execution_count": 3
        }
      ]
    },
    {
      "cell_type": "markdown",
      "source": [
        "3. (5 points) Calculate the sum of the squares of integers from 1 to 100. Use any method.\n"
      ],
      "metadata": {
        "id": "NFZQkXpb2gvf"
      }
    },
    {
      "cell_type": "code",
      "source": [
        "# enter your code here\n",
        "x.sum()**2"
      ],
      "metadata": {
        "id": "rfx6sDU52lqt",
        "colab": {
          "base_uri": "https://localhost:8080/"
        },
        "outputId": "80ce00b8-7b09-413b-aea7-8e16e1908f93"
      },
      "execution_count": 4,
      "outputs": [
        {
          "output_type": "execute_result",
          "data": {
            "text/plain": [
              "np.int64(900)"
            ]
          },
          "metadata": {},
          "execution_count": 4
        }
      ]
    },
    {
      "cell_type": "markdown",
      "source": [
        "4. (5 points) Given a Python list of integers A, create a new list B that only contains those elements of A that are positive. Use a for loop (not logical indexing).\n"
      ],
      "metadata": {
        "id": "5OjLlDzj2oGS"
      }
    },
    {
      "cell_type": "code",
      "source": [
        "# for b in a:\n",
        "    #if a is even:\n",
        "    # B = A\n"
      ],
      "metadata": {
        "id": "f_gZwt0y2tth"
      },
      "execution_count": null,
      "outputs": []
    },
    {
      "cell_type": "markdown",
      "source": [
        "5. (5 points) (a) Write down the output of the following Python program in the box below. Only show what will be printed."
      ],
      "metadata": {
        "id": "N3kpzvX42uif"
      }
    },
    {
      "cell_type": "code",
      "source": [
        "A = [1, -2, 3, -4, 5, -6]\n",
        "s1 = 0\n",
        "s2 = 0\n",
        "for n in A:\n",
        "     if n > 0:\n",
        "         s1 += n\n",
        "     else:\n",
        "         s2 += n\n",
        "     print(f'{n:2} {s1:2} {s2:2}')"
      ],
      "metadata": {
        "id": "EpP795dk2zxZ",
        "colab": {
          "base_uri": "https://localhost:8080/"
        },
        "outputId": "262d6b2d-5eb9-44d8-dd59-732ac5674a76"
      },
      "execution_count": 5,
      "outputs": [
        {
          "output_type": "stream",
          "name": "stdout",
          "text": [
            " 1  1  0\n",
            "-2  1 -2\n",
            " 3  4 -2\n",
            "-4  4 -6\n",
            " 5  9 -6\n",
            "-6  9 -12\n"
          ]
        }
      ]
    },
    {
      "cell_type": "markdown",
      "source": [
        "6. (5 points) (a) Write down the output of the following Python program in the box below. Only show what will be printed.\n"
      ],
      "metadata": {
        "id": "qKi-ESMD3AMs"
      }
    },
    {
      "cell_type": "code",
      "source": [
        "s = 0 #initalized a counter\n",
        "for n in range(4): #going from 0 - 3\n",
        "    for x in range(n+1): #nested loop for our s as n represents our index\n",
        "       s += 1 #for indexes 0-3 the counter will increase by 2 because of n+1 for the range and +=1 increment for s\n",
        "    print(f'{n}  {s}')"
      ],
      "metadata": {
        "id": "iKC7DibRqLWi"
      },
      "execution_count": null,
      "outputs": []
    },
    {
      "cell_type": "markdown",
      "source": [
        "(We have an initalied counter in place)\n",
        "\n",
        "index 0 it will be 1\n",
        "then for 1 it will add the previous index and add an increment of 1\n",
        "index 2 adds 3 from previous and an increment of 1 for the total to be 6. 3 the same way except it'll be 10. as a result\n",
        "\n",
        "\n",
        "(0,1)(1,3)(2,6)(3,10)"
      ],
      "metadata": {
        "id": "0Dp8UCUxqMZw"
      }
    },
    {
      "cell_type": "markdown",
      "source": [
        "7. (5 points) Write some Python code using the NumPy library to calculate the speed of an object in free fall:\n",
        "Prompt the user to enter the height $h$ from which the object is dropped.\n",
        "Calculate the velocity using $v=\\sqrt{2gh}$ , where $g=9.8$ m/s$^2$.\n",
        "Print a message displaying and labeling the velocity rounded to 2 decimal places\n",
        "Print a warning message if the speed exceeds half the speed of light, where $c=3\\times 10^8$ m/s. The message should read:  “The object is approaching the speed of light”."
      ],
      "metadata": {
        "id": "VL6rkGj33JEy"
      }
    },
    {
      "cell_type": "code",
      "source": [
        "import numpy as np\n",
        "h = int(input('Enter a height: '))\n",
        "g = 9.8\n",
        "v = np.sqrt(2*g*h)\n",
        "c = 3e8\n",
        "halfofc = 1.5e8\n",
        "d = float(halfofc)\n",
        "\n",
        "if v < c:\n",
        "    print(f'The velocity of this object is {v:.2f} m/s')\n",
        "elif v <= d:\n",
        "    print('Warning: you are approaching the speed of light')\n"
      ],
      "metadata": {
        "id": "8Rf6kDcL3bLu",
        "colab": {
          "base_uri": "https://localhost:8080/"
        },
        "outputId": "608e48d0-4046-4228-8a3e-0466ce804ac1"
      },
      "execution_count": 19,
      "outputs": [
        {
          "output_type": "stream",
          "name": "stdout",
          "text": [
            "Enter a height: 1140000322\n",
            "The velocity of this object is 149479.12 m/s\n"
          ]
        }
      ]
    },
    {
      "cell_type": "markdown",
      "source": [
        "8. (5 points) Create a  NumPy array (100 rows and 4 columns) containing the following:\n",
        "* Column 1:  angle $\\theta$ - linearly spaced values between 0 and\n",
        "* Column 2: $\\sin \\theta$  \n",
        "* Column 3: $\\cos \\theta$\n",
        "* Column 4:  average of the values in columns 2 and 3"
      ],
      "metadata": {
        "id": "jOY79Luj3d4t"
      }
    },
    {
      "cell_type": "code",
      "source": [
        "# enter your code here"
      ],
      "metadata": {
        "id": "FfAsJUPi3thM"
      },
      "execution_count": null,
      "outputs": []
    },
    {
      "cell_type": "markdown",
      "source": [
        "9. (5 points) In this problem, you will explore a random walk in which the motion of a particle is controlled by a coin toss. If the coin is heads, move one unit to the right (+1), if tails, move one unit to the left (–1). Here’s the procedure:\n",
        "* Ask the user to input the total number of steps for the random walk\n",
        "* Start the particle at the origin.\n",
        "* Pick a random number to move the particle left or right by one unit.\n",
        "* Repeat for a total of N steps\n",
        "* After the walk is complete, print the position of the particle\n",
        "\n",
        "     You can use any method you like to solve this problem"
      ],
      "metadata": {
        "id": "2WbX89BE3w1b"
      }
    },
    {
      "cell_type": "code",
      "source": [
        "# enter your code here"
      ],
      "metadata": {
        "id": "FtBYvZ9n3tft"
      },
      "execution_count": null,
      "outputs": []
    },
    {
      "cell_type": "markdown",
      "source": [
        "10. (5 points) The Liebnitz formula for pi is:\n",
        "\n",
        "$\\pi \\approx 4 \\sum_{k=o}^N \\frac{(-1)^k}{2k+1}  \\approx 4\\cdot \\left[ 1-\\frac{1}{3} + \\frac{1}{5} - \\frac{1}{7} + \\frac{1}{9}+ \\cdots \\right]$\n",
        "                             \n",
        "* Write some Python code that prompts the user for the upper limit on the summation N and calculates the series.\n",
        "* Calculate the percent error of your approximation:  $error=\\left| \\frac{estimate-actual}{actual} \\right|\\times 100\\%$\n",
        "\n",
        "* print your estimated value of pi and the percent error along with a descriptive message\n",
        "* Use any method you like."
      ],
      "metadata": {
        "id": "XGBijCBt4A3b"
      }
    },
    {
      "cell_type": "code",
      "source": [
        "# enter your code here"
      ],
      "metadata": {
        "id": "u-5wiTjr4dHC"
      },
      "execution_count": null,
      "outputs": []
    }
  ]
}