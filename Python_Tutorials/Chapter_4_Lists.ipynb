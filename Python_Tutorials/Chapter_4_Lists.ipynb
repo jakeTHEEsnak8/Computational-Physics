{
  "nbformat": 4,
  "nbformat_minor": 0,
  "metadata": {
    "colab": {
      "provenance": [],
      "toc_visible": true,
      "include_colab_link": true
    },
    "kernelspec": {
      "name": "python3",
      "display_name": "Python 3"
    },
    "language_info": {
      "name": "python"
    }
  },
  "cells": [
    {
      "cell_type": "markdown",
      "metadata": {
        "id": "view-in-github",
        "colab_type": "text"
      },
      "source": [
        "<a href=\"https://colab.research.google.com/github/jakeTHEEsnak8/Computational-Physics/blob/main/Python_Tutorials/Chapter_4_Lists.ipynb\" target=\"_parent\"><img src=\"https://colab.research.google.com/assets/colab-badge.svg\" alt=\"Open In Colab\"/></a>"
      ]
    },
    {
      "cell_type": "markdown",
      "source": [
        "#Chapter 4 - Lists\n",
        "\n",
        "Goals\n",
        "* learn how to create and edit Python lists\n",
        "* learn how to use indexing and slicing to fetch items from lists, replace items and delete items\n",
        "* apply functions and list methods\n",
        "\n",
        "\n"
      ],
      "metadata": {
        "id": "jLfkkSpUxQqK"
      }
    },
    {
      "cell_type": "markdown",
      "source": [
        "##**4.0 Overview**\n",
        "\n",
        "Base Python provides many ways of organizing collections of items including lists, tuples, sets and dictionaries. Python libraries extend these options to numpy arrays, padas dataframes and more. The options can be a bit overwhelming at first. We'll focus on Lists in this chapter and NumPy arrays in Chapter 8.\n",
        "\n",
        "Lists are one of the most commonly used objects in Python, even though they are not the most effecient for intensive computational work. Many of the concepts developed in this chapter can be direclty transferred to other objects such as NumPy arrays discussed later in this tutorial."
      ],
      "metadata": {
        "id": "Na0hyEZfHCa1"
      }
    },
    {
      "cell_type": "markdown",
      "source": [
        "##**4.1 A list stores many values in a single structure**"
      ],
      "metadata": {
        "id": "cC2Ldwm2urAu"
      }
    },
    {
      "cell_type": "markdown",
      "source": [
        "* A Python list is a built-in data structure that stores an ordered collection of items (which can be of different types).\n",
        "* Python lists are mutable, meaning they can be modified after they are created\n",
        "* Lists are created using **square brackets**:"
      ],
      "metadata": {
        "id": "TQeDn6tfuy62"
      }
    },
    {
      "cell_type": "code",
      "source": [
        "my_list = [10, 20, 30, \"hello\", True, 60]\n",
        "print('my_list contains these items:  ',my_list)"
      ],
      "metadata": {
        "id": "rpmI_kVfW4bU",
        "outputId": "3e972a97-39e3-46f8-cbdd-c2f13e7ee540",
        "colab": {
          "base_uri": "https://localhost:8080/"
        }
      },
      "execution_count": 1,
      "outputs": [
        {
          "output_type": "stream",
          "name": "stdout",
          "text": [
            "my_list contains these items:   [10, 20, 30, 'hello', True, 60]\n"
          ]
        }
      ]
    },
    {
      "cell_type": "markdown",
      "source": [
        "## **4.2 Use the function `len()` to find the number of elements in a list**"
      ],
      "metadata": {
        "id": "gU0XfEvkv7xR"
      }
    },
    {
      "cell_type": "code",
      "source": [
        "n = len(my_list)                      # find the number of elements in my_list\n",
        "print(f'my_list has {n} elements')    # display the result"
      ],
      "metadata": {
        "id": "B8hzrrgGwJAq",
        "outputId": "b908e32e-fff9-460c-a6d4-412f35ed7765",
        "colab": {
          "base_uri": "https://localhost:8080/"
        }
      },
      "execution_count": 2,
      "outputs": [
        {
          "output_type": "stream",
          "name": "stdout",
          "text": [
            "my_list has 6 elements\n"
          ]
        }
      ]
    },
    {
      "cell_type": "markdown",
      "source": [
        "##**4.3 Use an item's index to fetch it from a list**\n",
        "* Each position in the list (first, second, etc.) is given a number. This number is called an index\n",
        "* Indices in Python are numbered from 0. So the first item in the list has index 0, the second has index 1, and so on.\n",
        "* Use the position's index in square brackets to retreive the item from the list\n",
        "* Note:  the terms \"item\" and \"element\" are often used interchangeably\n"
      ],
      "metadata": {
        "id": "sL44jNiuwfPl"
      }
    },
    {
      "cell_type": "code",
      "metadata": {
        "id": "s1kp5Zv0JBSx",
        "outputId": "f3134b0b-c2c2-4dd0-b2c4-bec96258ab7d",
        "colab": {
          "base_uri": "https://localhost:8080/"
        }
      },
      "source": [
        "print(\"first element (index 0)  = \",my_list[0])\n",
        "print(\"second element (index 1) = \",my_list[1])\n",
        "print(\"third element (index 2)  = \",my_list[2])"
      ],
      "execution_count": null,
      "outputs": [
        {
          "output_type": "stream",
          "name": "stdout",
          "text": [
            "first element (index 0)  =  10\n",
            "second element (index 1) =  20\n",
            "third element (index 2)  =  30\n"
          ]
        }
      ]
    },
    {
      "cell_type": "markdown",
      "source": [
        "### ✅ Skill Check 1\n",
        "\n",
        "Print the fourth element of the following array:"
      ],
      "metadata": {
        "id": "xG9icAAF0SZA"
      }
    },
    {
      "cell_type": "code",
      "source": [
        "A = [2,4,6,8,10,12]"
      ],
      "metadata": {
        "id": "nHLYrMqV0hvX"
      },
      "execution_count": null,
      "outputs": []
    },
    {
      "cell_type": "markdown",
      "source": [
        "##**4.4 The last item in a list has index [-1]**\n",
        "\n",
        "* Python uses negative indices to count backwawrd from the end of the list. Thus the index [-1] is shortcut to quickly access the last element of a list:"
      ],
      "metadata": {
        "id": "mf9R1uww0kQy"
      }
    },
    {
      "cell_type": "code",
      "source": [
        "print('The last item in my list is',my_list[-1])"
      ],
      "metadata": {
        "id": "ZNMly-nt1NSV"
      },
      "execution_count": null,
      "outputs": []
    },
    {
      "cell_type": "markdown",
      "source": [
        "* The next-to-the last item is given by [-2] and so on"
      ],
      "metadata": {
        "id": "fRhZMyi01yGm"
      }
    },
    {
      "cell_type": "code",
      "source": [
        "print('The 2nd-to-the-last item in my list is',my_list[-2])"
      ],
      "metadata": {
        "id": "m4f4uzts158u"
      },
      "execution_count": null,
      "outputs": []
    },
    {
      "cell_type": "markdown",
      "source": [
        "##**4.5 Indexing in Python starts at zero**\n"
      ],
      "metadata": {
        "id": "nZsj04LDxpaT"
      }
    },
    {
      "cell_type": "markdown",
      "source": [
        "\n",
        "This was already covered in the previous section, but it is super, super important. Some programming languages like Fortran, Matlab and R start counting at 1 because that's what people naturally do. Other languages like Python, C, Java, etc. count from 0 because it represents an offset from the first value in the array and is closer to the way computers represent arrays. If you are interested in the historical context, you can check out [Mike Hoye's blog post](https://exple.tive.org/blarg/2013/10/22/citation-needed/). It takes a bit of getting used to and is why this tutorial stars all chapters and sections with 0 instead of 1."
      ],
      "metadata": {
        "id": "IVTXakvaJNqV"
      }
    },
    {
      "cell_type": "markdown",
      "source": [
        "##**4.6 Use slicing to fetch multiple items from a list**\n",
        "\n",
        "* A part of a list is called a **slice**. A slice can be as short as a single item or as long as the entire list.\n",
        "* We take a slice by using `[start:stop]` notation, where `start` is replaces with the index of hte first item we want and `stop` is the index *just after* the last item we want.\n",
        "* Mathematically, you might say that a slice selects indices $n$ such that $start\\leq n < stop$.\n",
        "* The difference between `stop` and `start` is the length of the list.\n",
        "* Taking a slice does not change the contents of the original list. Instead, the slice is a copy of the original list."
      ],
      "metadata": {
        "id": "BrpVZTlJzE9Z"
      }
    },
    {
      "cell_type": "code",
      "source": [
        "print(\"The slice new_list[1:4] =\",my_list[1:4])"
      ],
      "metadata": {
        "id": "Y_0Cf5ro2QUR"
      },
      "execution_count": null,
      "outputs": []
    },
    {
      "cell_type": "markdown",
      "source": [
        "* Leaving off `stop` will extend the slice from `start` to the end of the list:"
      ],
      "metadata": {
        "id": "cGv8XesE2yzm"
      }
    },
    {
      "cell_type": "code",
      "source": [
        "print(\"slice new_list[3:] slice =       \",my_list[3:])"
      ],
      "metadata": {
        "id": "EAZzWtJr3HBo"
      },
      "execution_count": null,
      "outputs": []
    },
    {
      "cell_type": "markdown",
      "source": [
        "* Leaving off `start` will extend the slice from 0 up to `stop`:"
      ],
      "metadata": {
        "id": "LxeEWjLU3kFK"
      }
    },
    {
      "cell_type": "code",
      "source": [
        "print(\"slice new_list[3:] slice =       \",my_list[0:3])"
      ],
      "metadata": {
        "id": "jQ3yrDy53rKP"
      },
      "execution_count": null,
      "outputs": []
    },
    {
      "cell_type": "markdown",
      "source": [
        "### ✅ Skill Check 2\n",
        "\n",
        "Print the first 4 elements of the following array:"
      ],
      "metadata": {
        "id": "T-gFdVmF00ZU"
      }
    },
    {
      "cell_type": "code",
      "source": [
        "A = [2,4,6,8,10,12]"
      ],
      "metadata": {
        "id": "hLxVTSxr00ZU"
      },
      "execution_count": null,
      "outputs": []
    },
    {
      "cell_type": "markdown",
      "source": [
        "##4**.7 A list's values can be replaced by assigning new values to them**\n",
        "* To replace the 5th item (index = 4), we make the following assignment:"
      ],
      "metadata": {
        "id": "4RN2_s3U34qS"
      }
    },
    {
      "cell_type": "code",
      "source": [
        "my_list[4] = 50\n",
        "print(\"updated list = \",my_list)"
      ],
      "metadata": {
        "id": "z6zJvnqa4oCr"
      },
      "execution_count": null,
      "outputs": []
    },
    {
      "cell_type": "markdown",
      "source": [
        "* You can replace a group of elements with a slice as long as number of elements in the slice matches the number of elements specified in the array. In the following example, we replace the first three elements of `my_list` with the letters `a`, `b`, `c`."
      ],
      "metadata": {
        "id": "J3RPHiX340Tw"
      }
    },
    {
      "cell_type": "code",
      "source": [
        "my_list[0:3] = ['a','b','c']\n",
        "print(\"updated list = \",my_list)"
      ],
      "metadata": {
        "id": "pJA8hHg95ONo"
      },
      "execution_count": null,
      "outputs": []
    },
    {
      "cell_type": "markdown",
      "source": [
        "##**4.8 Use the list method .append() to add items to the end of a list**\n",
        "* Most objects in Python have a set of dedicated functions that operate on the object they are attached to. These dedicated functions are called **methods**.\n",
        "* To implement a method, we type the name of the object, a \".\" and then the name of the method:  object_name.method_name()\n",
        "* The add an item to the end of a list we use the `.append()` method. We'll add an element \"goodbye\" to the end of our list:"
      ],
      "metadata": {
        "id": "XvEvUP6L5tjX"
      }
    },
    {
      "cell_type": "code",
      "source": [
        "my_list.append('goodbye')\n",
        "print('updated my_list = ',my_list)"
      ],
      "metadata": {
        "id": "eWMftgUC7LfV"
      },
      "execution_count": null,
      "outputs": []
    },
    {
      "cell_type": "markdown",
      "source": [
        "* We can add a list to the end of another list using the `.extend()` method. We'll add a list `[80, 90, 100]' to the end of our list:"
      ],
      "metadata": {
        "id": "omEl7rnL70mL"
      }
    },
    {
      "cell_type": "code",
      "source": [
        "my_list.extend([80, 90, 100])\n",
        "print('updated my_list = ',my_list)"
      ],
      "metadata": {
        "id": "H6epdwaB8FDx"
      },
      "execution_count": null,
      "outputs": []
    },
    {
      "cell_type": "markdown",
      "source": [],
      "metadata": {
        "id": "oNz8Wbk6ufjf"
      }
    },
    {
      "cell_type": "markdown",
      "source": [
        "### ✅ Skill Check 3\n",
        "\n",
        "In the following code, we have defined three lists of prime numbers. Using the methods described in this chapter, combine these lists to a single list and then print it to the screen."
      ],
      "metadata": {
        "id": "U05LcSqkoPCR"
      }
    },
    {
      "cell_type": "code",
      "source": [
        "baby_primes = [2, 3, 5, 7]\n",
        "teen_primes = [11, 13, 17, 19]\n",
        "adult_primes = [23, 27, 29, 31, 37]"
      ],
      "metadata": {
        "id": "-p7js2htot65"
      },
      "execution_count": null,
      "outputs": []
    },
    {
      "cell_type": "markdown",
      "source": [
        "##**4.9 use the `del' command to delete an element or slice from a list by index**\n",
        "* We can delete either individual elements or entire slices like this. In this example, we delete the fourth element (index = 3), which contains \"hello\":\n",
        "\n",
        "\n"
      ],
      "metadata": {
        "id": "MWbqjVJ78VAg"
      }
    },
    {
      "cell_type": "code",
      "source": [
        "del my_list[3]\n",
        "print('updated my_list = ',my_list)"
      ],
      "metadata": {
        "id": "RwiMsXTY9J9g"
      },
      "execution_count": null,
      "outputs": []
    },
    {
      "cell_type": "markdown",
      "source": [
        "* Let's now delete the last three elements using negative indexing:"
      ],
      "metadata": {
        "id": "Q0LHzW1l9ml5"
      }
    },
    {
      "cell_type": "code",
      "source": [
        "del my_list[-3:]\n",
        "print('updated my_list = ',my_list)"
      ],
      "metadata": {
        "id": "ysZyH_HS9yKh"
      },
      "execution_count": null,
      "outputs": []
    },
    {
      "cell_type": "markdown",
      "source": [
        "### ✅ Skill Check 4\n",
        "\n",
        "The following code cell contains a list of letters and numbers. Use methods described in this chapter to remove the numbers from the list."
      ],
      "metadata": {
        "id": "CFTpFtRpmZ3Q"
      }
    },
    {
      "cell_type": "code",
      "source": [
        "even_numbers = ['a', 'b', 'c', 999, 'd', 999, 'e']"
      ],
      "metadata": {
        "id": "7FPWezzpovwv"
      },
      "execution_count": null,
      "outputs": []
    },
    {
      "cell_type": "markdown",
      "source": [
        "##**4.10 Use the `.remove()` method to delete an element by value**\n",
        "\n",
        "* Instead of providing the index of the element to delete, you can use the `.remove()` method to provide the contents of the element. The `.remove()` command will delete the first occurance of the element from the list. If the value appears in multiple locations in the list, the others will remain"
      ],
      "metadata": {
        "id": "PIj9CEAe-JPJ"
      }
    },
    {
      "cell_type": "code",
      "source": [
        "my_list.remove('goodbye')\n",
        "print('updated my_list = ',my_list)"
      ],
      "metadata": {
        "id": "hGrS60pJ-9Sv"
      },
      "execution_count": null,
      "outputs": []
    },
    {
      "cell_type": "markdown",
      "source": [
        "##**4.11 Remove all elements of an array by setting it equal to the empty list `[]`**\n",
        "\n",
        "* Here's an example:"
      ],
      "metadata": {
        "id": "PnR2PCAr_t7U"
      }
    },
    {
      "cell_type": "code",
      "source": [
        "my_list = []\n",
        "print('updated my_list = ',my_list)"
      ],
      "metadata": {
        "id": "ft1HVVJ__aGh"
      },
      "execution_count": null,
      "outputs": []
    },
    {
      "cell_type": "markdown",
      "source": [
        "* If you want to remove the list itself (and not just its contents), you can use the `del` command. After running the following command, `my_list` will no longer show up in the Variable Inspector."
      ],
      "metadata": {
        "id": "KfCzBYm3J-C1"
      }
    },
    {
      "cell_type": "code",
      "source": [
        "del my_list"
      ],
      "metadata": {
        "id": "7whllZ_DKIyd"
      },
      "execution_count": null,
      "outputs": []
    },
    {
      "cell_type": "markdown",
      "source": [
        "##**4.12 Swap elements**\n",
        "\n",
        "Python  provides a fancy way of swapping elements of a list (or any pair of variables).\n",
        "\n",
        "First, let's try it with two variables `x` and `y`. We simply reverse the order of the variables across the equals sign like this:"
      ],
      "metadata": {
        "id": "vgki-FPfrkBz"
      }
    },
    {
      "cell_type": "code",
      "source": [
        "x = 1                       # define x\n",
        "y = 2                       # define y\n",
        "x, y = y, x                 # swap x and y\n",
        "print('x =',x,'and y =',y)  # print the result\n"
      ],
      "metadata": {
        "id": "-Mw_-Eo_sbef"
      },
      "execution_count": null,
      "outputs": []
    },
    {
      "cell_type": "markdown",
      "source": [
        "Let's now apply this trick to lists. We'll define a list and then swap the first two elements:"
      ],
      "metadata": {
        "id": "tGZ8r40qtEEt"
      }
    },
    {
      "cell_type": "code",
      "source": [
        "A = [10, 20, 30, 40, 50]\n",
        "A[0], A[1] = A[1], A[0]\n",
        "print('updated A = ',A)"
      ],
      "metadata": {
        "id": "nJ5Hgk0JtRk1"
      },
      "execution_count": null,
      "outputs": []
    },
    {
      "cell_type": "markdown",
      "source": [
        "### ✅ Skill Check 5\n",
        "\n",
        "Using only thw swap operator, write a series of commands to place the numbers in the following list in order from low to high.\n",
        "\n"
      ],
      "metadata": {
        "id": "e3a25GfaprUp"
      }
    },
    {
      "cell_type": "code",
      "source": [
        "my_list = [20, 50, 60, 10, 30, 40, 70]\n",
        "\n"
      ],
      "metadata": {
        "id": "3U8sRAiOpqUb"
      },
      "execution_count": null,
      "outputs": []
    },
    {
      "cell_type": "markdown",
      "source": [
        "## **4.13 Use `.copy()` to copy a list**\n",
        "\n",
        "Let's say we want to copy the following list. It is tempting to just use the assignment operator \"=\" as follows:"
      ],
      "metadata": {
        "id": "jxRmvo_OL0KF"
      }
    },
    {
      "cell_type": "code",
      "source": [
        "my_list = [1,2,3]              # define a list\n",
        "new_list = my_list             # use \"=\" to set a pointer from the new list to the original\n",
        "print('new_list = ',new_list)  # show that the new list contains the same elements as the original"
      ],
      "metadata": {
        "id": "1fMzMQb9MNst"
      },
      "execution_count": null,
      "outputs": []
    },
    {
      "cell_type": "markdown",
      "source": [
        "However, something strange happens if we modify the original list:"
      ],
      "metadata": {
        "id": "M313yNIaMacP"
      }
    },
    {
      "cell_type": "code",
      "source": [
        "my_list[0] = 10                # modify the original list\n",
        "print('my_list = ',my_list)    # show that the orininal list was modified\n",
        "print('new_list = ',new_list)  # show that the new list is also modified!!"
      ],
      "metadata": {
        "id": "4U4Q0RuQMrTA"
      },
      "execution_count": null,
      "outputs": []
    },
    {
      "cell_type": "markdown",
      "source": [
        "* Notice that when we modify the original list, the new list is also modified!!\n",
        "* In Python, the assignment operator \"=\" doesn't make a copy, rather it merely points back to the original list.\n",
        "\n",
        "To make a copy of a list that is not \"tethered\" to the original one, use the `.copy()` method:"
      ],
      "metadata": {
        "id": "y4NLxeYtMuZR"
      }
    },
    {
      "cell_type": "code",
      "source": [
        "my_list  = [1,2,3]             # define a list\n",
        "new_list = my_list.copy()      # make an independent copy\n",
        "my_list[0] = 10                # make a change to the original list\n",
        "print('my_list = ',my_list)    # show that the original list was changed\n",
        "print('new_list = ',new_list)  # show that the copy stays unchanged"
      ],
      "metadata": {
        "id": "uIa_s7nkO3_D"
      },
      "execution_count": null,
      "outputs": []
    },
    {
      "cell_type": "markdown",
      "source": [
        "* When we use the `.copy()` method the two lists are independent and modifying one won't affect the other."
      ],
      "metadata": {
        "id": "wcp139epPJ4Z"
      }
    },
    {
      "cell_type": "markdown",
      "source": [
        "##**4.14 Sort list elements**\n",
        "\n",
        "We can sort the elements of a list with the `.sort()` method like this:\n",
        "\n",
        "\n",
        "\n"
      ],
      "metadata": {
        "id": "t0F3Qg9XJerc"
      }
    },
    {
      "cell_type": "code",
      "source": [
        "my_list = [4, 8, 1, 9, 3, 5, 3, 1, 9, 2]\n",
        "\n",
        "my_list.sort()\n",
        "print('sorted my_list = ',my_list)"
      ],
      "metadata": {
        "id": "5XaIpoNbJ_EJ"
      },
      "execution_count": null,
      "outputs": []
    },
    {
      "cell_type": "markdown",
      "source": [
        "### ✅ Skill Check 6\n",
        "\n",
        "The following Code Cell contains a list of particle names. Sort the list in alphabetical order and print the result."
      ],
      "metadata": {
        "id": "9bk5jTy4zYl9"
      }
    },
    {
      "cell_type": "code",
      "source": [
        "a = ['proton','quark','gluon','electron','muon','boson']\n"
      ],
      "metadata": {
        "id": "TIfQwW2Jya4q"
      },
      "execution_count": null,
      "outputs": []
    },
    {
      "cell_type": "markdown",
      "source": [
        "### 🔆 Example - Largest three values in a list\n",
        "\n",
        "Suppose we want to find the largest three values in a list. We can accomplish this by sorting the list and then printing the last three elements. Let's assume we don't want to change the order of the elements in the original list."
      ],
      "metadata": {
        "id": "AY0c5FuQKXO7"
      }
    },
    {
      "cell_type": "markdown",
      "source": [
        "**Solution**\n",
        "\n",
        "Since we don't want the mess with the ordering of our list, we do the following:\n",
        "* define the list\n",
        "* make a copy using `.copy()`\n",
        "* sort the copy\n",
        "* print the last three elemnts of the sorted list"
      ],
      "metadata": {
        "id": "lQUZo5rdRMu1"
      }
    },
    {
      "cell_type": "code",
      "source": [
        "a = [5,7,9,2,1,6,4,8,10,2,7]\n",
        "b = a.copy()\n",
        "b.sort()\n",
        "print(\"the largest three values are\",b[-3:])"
      ],
      "metadata": {
        "id": "g0I31R-JRqOl",
        "outputId": "ba9f3e35-57ee-4c66-c530-f85ef65a31b8",
        "colab": {
          "base_uri": "https://localhost:8080/"
        }
      },
      "execution_count": null,
      "outputs": [
        {
          "output_type": "stream",
          "name": "stdout",
          "text": [
            "the largest three values are [8, 9, 10]\n"
          ]
        }
      ]
    },
    {
      "cell_type": "markdown",
      "source": [
        "##4.15 Functions and methods that work on lists\n",
        "\n",
        "**List Methods**\n",
        "\n",
        "In Python a method is a function that is defined within an object. Methods are called with the following syntax:  object.method(). The previous section described how to use the `sort()` method on lists. Here's a list of several list methods:\n",
        "\n",
        "* .append(x) - add item `x` to the end of a list\n",
        "* .extend(a) - add a list to the end of another list\n",
        "* .sort() - sort the list\n",
        "* .insert(i,x) - insert the item `x` at index position `i`\n",
        "* .count(x) - return th number of occurances of `x`\n",
        "* .reverse() - reverse the ordering of elements in the list\n",
        "* .copy() - returns a copy of the list\n",
        "* .index(x) - returns the index of the first occurance of `x`\n",
        "\n",
        "**Built-in functions**\n",
        "\n",
        "The following are functions buit into Python that work on lists:\n",
        "\n",
        "* len(my_list) - number of elements in the list\n",
        "* sum(my_list) - sum of numeric elements\n",
        "* min(my_list) - minimum (smallest) value in the list\n",
        "* max(my_list) - maximum value\n",
        "\n"
      ],
      "metadata": {
        "id": "4FofwzM7FdwJ"
      }
    },
    {
      "cell_type": "markdown",
      "source": [
        "### 🔆 Example functions and methods\n",
        "\n"
      ],
      "metadata": {
        "id": "NCqs46NzJWww"
      }
    },
    {
      "cell_type": "code",
      "source": [
        "my_list = [4,7,1,7,9,0,10]\n",
        "\n",
        "print(\"length of my_list = \",len(my_list))\n",
        "print(\"sum of my_list = \",sum(my_list))\n",
        "print(\"min of my_list = \",min(my_list))\n",
        "print(\"index of teh first 7 in my_list = \",my_list.index(7))\n"
      ],
      "metadata": {
        "id": "HlsRe0rIJdlx",
        "outputId": "e4d88e1d-ab21-4c6c-8681-5efc1a5e482e",
        "colab": {
          "base_uri": "https://localhost:8080/"
        }
      },
      "execution_count": null,
      "outputs": [
        {
          "output_type": "stream",
          "name": "stdout",
          "text": [
            "length of my_list =  7\n",
            "sum of my_list =  38\n",
            "min of my_list =  0\n",
            "index of teh first 7 in my_list =  1\n"
          ]
        }
      ]
    },
    {
      "cell_type": "markdown",
      "source": [
        "### ✅ Skill Check 7\n",
        "\n",
        "Use the `sum()` function to calculate and print the average of the following list. Remember the average is the sum divided by the number of elements in the list."
      ],
      "metadata": {
        "id": "Fys6gN9gPtVO"
      }
    },
    {
      "cell_type": "code",
      "source": [
        "my_list = [3,6,17,2,1,-8,6,1,3,9]"
      ],
      "metadata": {
        "id": "dN2yI1PXQPwD"
      },
      "execution_count": null,
      "outputs": []
    },
    {
      "cell_type": "markdown",
      "source": [
        "### ✅ Skill Check 8\n",
        "\n",
        "The following code cell contains a list of values. Use the methods described in this chapter to create a new list with the minimum value and the maximum value removed. Your method should automatically find the extreme values, so that it will still work if the array elements change. Print your new list. Calculate and print the average of the new list.\n",
        "\n"
      ],
      "metadata": {
        "id": "YyXPb8-MUKwB"
      }
    },
    {
      "cell_type": "code",
      "source": [
        "my_list = [3,6,17,2,1,-8,6,1,3,9]"
      ],
      "metadata": {
        "id": "BzB2y5wblD39"
      },
      "execution_count": null,
      "outputs": []
    },
    {
      "cell_type": "markdown",
      "source": [
        "##**4.16 Character strings can be indexed and sliced like lists**\n",
        "\n",
        "* The characters (individual letters, numbers and so on) in a string are ordered like elements in a list.\n",
        "* You can retreive characters from text string using indexes and slices in square brackets, just like lists\n",
        "* The built-in function `len()` counts the unber of characters in a string, just like it returns the number of elements in a list\n",
        "* Here are some examples:"
      ],
      "metadata": {
        "id": "cCfIl0Za_7wm"
      }
    },
    {
      "cell_type": "code",
      "source": [
        "element = 'carbon'\n",
        "print('length of the element string = ', len(element))\n",
        "print('first letter of the element (element[0]) = ', element[0])\n",
        "print('first thee letters (element[:3]) = ', element[:3])"
      ],
      "metadata": {
        "id": "YOlFZyQdl4R4"
      },
      "execution_count": null,
      "outputs": []
    },
    {
      "cell_type": "markdown",
      "source": [
        "Even though strings act like lists in some ways, they are NOT lists.\n",
        "* Unlike lists, strings are not mutable, meaning that once they are created they cannot be modified\n",
        "* It is not possible to replace characters in a string using list indexing. The following will throw an error:"
      ],
      "metadata": {
        "id": "dm89nYLlB9bG"
      }
    },
    {
      "cell_type": "code",
      "source": [
        "element[0] = 'C'"
      ],
      "metadata": {
        "id": "HsJu6jVqCXIH"
      },
      "execution_count": null,
      "outputs": []
    },
    {
      "cell_type": "markdown",
      "source": [
        "* If you want to replace all occurances of a particular character with another, you can do so with the `.replace()` method for strings. Because, you cannot edit strings, you have to save the modified version as a new string. And, yes, it is ok to save it with the same name. This bascially overwrites the old string with the new one. You can do much more as well, but that is beyond the scope of the current discussion."
      ],
      "metadata": {
        "id": "0eKQ01nNCb0Y"
      }
    },
    {
      "cell_type": "code",
      "source": [
        "element = element.replace('c','C')\n",
        "print(\"updated element string =\", element)"
      ],
      "metadata": {
        "id": "PiGjmI55C1lR"
      },
      "execution_count": null,
      "outputs": []
    },
    {
      "cell_type": "markdown",
      "source": [
        "### ✅ Skill Check 9\n",
        "\n",
        "The words \"pancake\" and \"feedback\" are two examples where reversing the syllables makes a meaningful word, in this case \"cakepan\" and \"backfeed\" respectively. Using slicing and concatenation, reverse the syllables of these two words"
      ],
      "metadata": {
        "id": "WCMdn5rNML4o"
      }
    },
    {
      "cell_type": "code",
      "source": [
        "word1 = \"pancake\"\n",
        "word2 = \"feedback\"\n"
      ],
      "metadata": {
        "id": "tRPINGREO4Yi"
      },
      "execution_count": null,
      "outputs": []
    },
    {
      "cell_type": "markdown",
      "source": [
        "##**4.17 Don't confuse lists and tuples**\n",
        "A Python tuple is is similar to a list, but its contents cannot be changed once it is created, i.e. it is immutable. We won't discuss them much at the moment other to say they are created with parentheses instead of square brackets:"
      ],
      "metadata": {
        "id": "rfl4799h5liQ"
      }
    },
    {
      "cell_type": "code",
      "source": [
        "my_tuple = (1,2,3)"
      ],
      "metadata": {
        "id": "ul1ZUDrJ85D-"
      },
      "execution_count": null,
      "outputs": []
    },
    {
      "cell_type": "markdown",
      "metadata": {
        "id": "HvXs_KaoRWQ9"
      },
      "source": [
        "For now, the main take-away is: if you accidently use parentheses instead of square brackets when trying to create a list, you will actually be creating a tuple. This can lead to error messages (see below), angst and frustration if done unintentionally. Be careful with the notation!"
      ]
    },
    {
      "cell_type": "markdown",
      "source": [
        "##**4.18 Practice problems**"
      ],
      "metadata": {
        "id": "IpubAOnZLEZu"
      }
    },
    {
      "cell_type": "markdown",
      "source": [
        "##**4.19 Errors**\n",
        "\n",
        "The following are common errors encountered when using lists:\n",
        "\n",
        "\n"
      ],
      "metadata": {
        "id": "lL5mK2Y_O9T0"
      }
    },
    {
      "cell_type": "markdown",
      "source": [
        "### Mixing up [ ], ( ) and { }\n",
        "\n",
        "Trying to define a list with parentheses `( )` or curly braces `{ }` instead of square brackets `[ ]` will define the obect as a tuple or a set, respectively, rather than a list. Often, this won't throw an error immediately, since these are also valid objects. Errors will arise, however, if you try to update a tuple since tuples aren't mutable:"
      ],
      "metadata": {
        "id": "kjPXxQNPZVi3"
      }
    },
    {
      "cell_type": "markdown",
      "source": [
        "### Index out of range error\n",
        "\n",
        "Trying to reference a list element that is beyond the end of the list will throw an error. Remember that if a list has `N` elements, the last element will be`[N-1]` and not `[N]`."
      ],
      "metadata": {
        "id": "EihSQ6ABZy1m"
      }
    },
    {
      "cell_type": "code",
      "source": [
        "my_list = [1,2,3]   # list defined with 3 elements\n",
        "print(my_list[3])   # valid indices run from 0 to 2, so 3 is out of bounds"
      ],
      "metadata": {
        "id": "CPZknXFSQO_w"
      },
      "execution_count": null,
      "outputs": []
    },
    {
      "cell_type": "markdown",
      "source": [
        "### Array slicing\n",
        "\n",
        "Array slicing can often lead to errors if you try to get too fancy. Trying to assign a set of elements when the number of elements don't match. Unless you are very careful about what you are doing, this can lead to unexpected results. For example, if you want to modify the first three elements of a list, but accidently assign the three elements to the first position in the target list, you will end up with one of the list elements being a list itself. This is an allowed operation, but not what was intended:"
      ],
      "metadata": {
        "id": "m7ste6ARQVcS"
      }
    },
    {
      "cell_type": "code",
      "source": [
        "a = [10,20,30,40,50]\n",
        "a[0] = [1,2,3]\n",
        "print(\"array a is now = \",a)"
      ],
      "metadata": {
        "id": "J47Yc1WMK5wc"
      },
      "execution_count": null,
      "outputs": []
    },
    {
      "cell_type": "markdown",
      "source": [
        "Here's the correct way:"
      ],
      "metadata": {
        "id": "o20YaKhZbB_y"
      }
    },
    {
      "cell_type": "code",
      "source": [
        "a = [10,20,30,40,50]\n",
        "a[0:3] = [1,2,3]\n",
        "print(\"array a is now = \",a)"
      ],
      "metadata": {
        "id": "NkXNogGka_uT"
      },
      "execution_count": null,
      "outputs": []
    },
    {
      "cell_type": "markdown",
      "source": [
        "##**Key Points**\n",
        "\n",
        "* Lists are one of many ways of organizing data in Python\n",
        "* Lists are created using square brackets `[item1, item2, item3...]`\n",
        "* The `len()` function returns the number of elements in a list\n",
        "* Use an item's index to fetch it from its list, e.g. `my_list[0]`\n",
        "* The Python shortcut for the last item in a list is `my_list[-1]`\n",
        "* Python idexing starts at 0 instead of 1\n",
        "* Use slicing to fetch multiple items from a list:  `my_list[start:end]`\n",
        "* A list's values can be replaced by assigning new values to them:  `my_list[3] = 3.14'\n",
        "* Methods are functions that are tied to specific objects. Python lists have many methods available\n",
        "* Use the list method `.append()` to add items to the end of a list\n",
        "* use the `del` command to delete items from a list by index\n",
        "* use the `.remove()` method to delete items by value\n",
        "* Remove all elements from a list by setting it equal to the empty list:  `my_list = []'\n",
        "* Swap elements using the notation `a[1],a[2] = a[2],a[1]`\n",
        "* Cope lists using the `.copy()` method\n",
        "* Characters in a string can be fetched using the same indexing as lists\n",
        "* Don't forget to use square brackets to create lists. If you use parentheses `()` you will be creating a tuple, which has very different properties."
      ],
      "metadata": {
        "id": "yGTqL7TcKbAK"
      }
    },
    {
      "cell_type": "markdown",
      "source": [
        "This tutorial is a modified adaptation of [link text](https://) \"[Python for Physicists](https://lucydot.github.io/python_novice/)\"\n",
        "© [Software Carpentry](http://software-carpentry.org/)\n"
      ],
      "metadata": {
        "id": "5pnXdFvAhvCZ"
      }
    }
  ]
}