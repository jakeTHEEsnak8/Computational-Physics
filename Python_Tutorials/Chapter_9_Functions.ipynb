{
  "nbformat": 4,
  "nbformat_minor": 0,
  "metadata": {
    "colab": {
      "provenance": [],
      "toc_visible": true,
      "include_colab_link": true
    },
    "kernelspec": {
      "name": "python3",
      "display_name": "Python 3"
    },
    "language_info": {
      "name": "python"
    }
  },
  "cells": [
    {
      "cell_type": "markdown",
      "metadata": {
        "id": "view-in-github",
        "colab_type": "text"
      },
      "source": [
        "<a href=\"https://colab.research.google.com/github/jakeTHEEsnak8/Computational-Physics/blob/main/Python_Tutorials/Chapter_9_Functions.ipynb\" target=\"_parent\"><img src=\"https://colab.research.google.com/assets/colab-badge.svg\" alt=\"Open In Colab\"/></a>"
      ]
    },
    {
      "cell_type": "markdown",
      "source": [
        "##Chapter 9 - Functions\n",
        "\n",
        "Goals:\n",
        "* Explain and identify the difference between function definition and function call.\n",
        "* Write a function that takes a number of arguments and produces a returned value.\n",
        "\n"
      ],
      "metadata": {
        "id": "TTncLZhvQkAI"
      }
    },
    {
      "cell_type": "markdown",
      "source": [
        "## 9.0 Break programs down into functions to make them easier to understand.\n",
        "\n",
        "* People can only keep a few items in working memory at a time.\n",
        "* Understand larger/more complicated ideas by understanding and combining pieces. Think of components of a car or understanding nature through the division into physics, chemistry, biology and all their subfields.\n",
        "* Functions serve the same purpose in programs.\n",
        "* Encapsulate complexity so that we can treat it as a single “thing”.\n",
        "* Functions also enables re-use:  write it once, use it many times.\n",
        "\n"
      ],
      "metadata": {
        "id": "g3C0uV-QRkt_"
      }
    },
    {
      "cell_type": "markdown",
      "source": [
        "For example, you might design a program that does data analysis into functional parts:\n",
        "* read in data\n",
        "* preprocess data to make it easier to analyse\n",
        "* perform analysys\n",
        "* plot results\n",
        "* save results\n",
        "\n",
        "Each of these could be their own function (or multiple functions)"
      ],
      "metadata": {
        "id": "8vUJXN51UCdQ"
      }
    },
    {
      "cell_type": "markdown",
      "source": [
        "##9.1 - Define a function using `def`\n",
        "\n",
        "* Begin the definition of a new function with `def`.\n",
        "* After `def` comes the name of the function. Function names follow the same rules as variable names (only letters, numbers and underscores; no spaces)\n",
        "* Then parameters in parentheses. If the function doesn't have any parameters, just use umpty parentheses ().\n",
        "* All function definitions must end with a colon (like if statements and loops)\n",
        "* The body of the function comes next and must be indented\n",
        "\n",
        "Here's an example:"
      ],
      "metadata": {
        "id": "XVnCwyd7RLW5"
      }
    },
    {
      "cell_type": "code",
      "source": [
        "def print_greeting():\n",
        "    print('Hello!')"
      ],
      "metadata": {
        "id": "bZUHQJxJV4Ha"
      },
      "execution_count": null,
      "outputs": []
    },
    {
      "cell_type": "markdown",
      "source": [
        "* If you run the above cell, you will not see any output. The reason is that you need to call the function to execute it as described in the next section."
      ],
      "metadata": {
        "id": "OKfEaTItlnov"
      }
    },
    {
      "cell_type": "markdown",
      "source": [
        "## 9.2 Defining a function does not run it.\n",
        "\n",
        "* Defining a function does not run it.\n",
        "* You must call the function to execute the code it contains.\n",
        "* The implementation of the function is called \"the call\". The call for the `print_greeting` function  is made by simmply typing the function name followed by a pair of parentheses:"
      ],
      "metadata": {
        "id": "hYBkexoqWA3P"
      }
    },
    {
      "cell_type": "code",
      "execution_count": null,
      "metadata": {
        "id": "zn8bUAAHQfFQ",
        "colab": {
          "base_uri": "https://localhost:8080/"
        },
        "outputId": "f41ca989-8eab-4699-c7d1-585ce354860c"
      },
      "outputs": [
        {
          "output_type": "stream",
          "name": "stdout",
          "text": [
            "Hello!\n"
          ]
        }
      ],
      "source": [
        "print_greeting()"
      ]
    },
    {
      "cell_type": "markdown",
      "source": [
        "* After running this code cell, you shoud see the greeting printed under it.\n",
        "* If you get an error, double check that you ran the code cell above containing the function definition first."
      ],
      "metadata": {
        "id": "Lt3RdFJXWh-5"
      }
    },
    {
      "cell_type": "markdown",
      "source": [
        "## 9.3 Arguments in the calling function are matched to the parameters in the definition.\n",
        "\n",
        "* Functions are most useful when they can operate on different data.\n",
        "* Specify parameters when defining a function.\n",
        "* These parameters become variables when the function is executed.\n",
        "* The parameters are assigned the arguments in the call (i.e., the values passed to the function).\n",
        "* If you don't name the arguments when using them in the call, the arguments will be matched to parameters in the order the parameters are defined in the function.\n"
      ],
      "metadata": {
        "id": "MtarrECkXPsP"
      }
    },
    {
      "cell_type": "markdown",
      "source": [
        "### 🔆 print_date() function\n",
        "\n",
        "In this example, we define a function to print a date in MM/DD/YYYY format\n",
        "* The passed parameters are the year, month and day\n",
        "* In the call to the function we pass the year 1871, the month 3 (for March) and the day 19. The order of these passed parameters matches the order `(year, month, day)` in the function definition.\n",
        "\n",
        "Run the code to see the output:"
      ],
      "metadata": {
        "id": "OwKqu7v3fMc3"
      }
    },
    {
      "cell_type": "code",
      "source": [
        "def print_date(year, month, day):\n",
        "    print(f'{month}/{day}/{year}')\n",
        "\n",
        "print_date(1871, 3, 19)"
      ],
      "metadata": {
        "id": "QwutfgZKYRuv",
        "colab": {
          "base_uri": "https://localhost:8080/"
        },
        "outputId": "6689c5c5-1e34-4018-e5f6-eb6f6f4c0cd2"
      },
      "execution_count": null,
      "outputs": [
        {
          "output_type": "stream",
          "name": "stdout",
          "text": [
            "3/19/1871\n"
          ]
        }
      ]
    },
    {
      "cell_type": "markdown",
      "source": [
        "* Or, we can name the arguments when we call the function, which allows us to specify them in any order:\n",
        "* In the following example, we pass the month first instread of the year."
      ],
      "metadata": {
        "id": "AQVrK4xVYhxj"
      }
    },
    {
      "cell_type": "code",
      "source": [
        "print_date(month=3, day=19, year=1871)"
      ],
      "metadata": {
        "id": "6dvx5PiEYmjR",
        "colab": {
          "base_uri": "https://localhost:8080/"
        },
        "outputId": "2c00c8a6-533d-4bcd-9f03-80bd8e67dca6"
      },
      "execution_count": null,
      "outputs": [
        {
          "output_type": "stream",
          "name": "stdout",
          "text": [
            "3/19/1871\n"
          ]
        }
      ]
    },
    {
      "cell_type": "markdown",
      "source": [
        "* You can think of the function arguments as the **ingredients** for the function, while the body contains the **recipe**."
      ],
      "metadata": {
        "id": "GXvgylIPY4kU"
      }
    },
    {
      "cell_type": "markdown",
      "source": [
        "### ✅ Skill Check 1\n",
        "\n",
        "Write a function that prints an ASCII cat face:   =^.^=\n",
        "* You might call your function `cat()` or `print_cat()`, etc.\n",
        "* Your function doesn't need to have any passed variables, since it just does one thing\n",
        "* Test your function by calling it to demonstrate that it works\n",
        "\n"
      ],
      "metadata": {
        "id": "ZsRT4OcwH91D"
      }
    },
    {
      "cell_type": "code",
      "source": [
        "def cat():\n",
        "    print('=^.^=')\n",
        "cat()\n",
        "\n",
        "\n"
      ],
      "metadata": {
        "id": "THrwfETMfCh6",
        "colab": {
          "base_uri": "https://localhost:8080/"
        },
        "outputId": "d50f285d-94df-4bec-9d73-074c4b4b9b73"
      },
      "execution_count": null,
      "outputs": [
        {
          "output_type": "stream",
          "name": "stdout",
          "text": [
            "=^.^=\n"
          ]
        }
      ]
    },
    {
      "cell_type": "markdown",
      "source": [
        "## 9.4 Arguments can have default values\n",
        "* You can create a default value by setting the passed parameter equal to a value in the function definition\n",
        "* Parameters with default values cannot come before parameters without default values, i.e. they must be at the end of the parameter list"
      ],
      "metadata": {
        "id": "ljgaiknFsqHG"
      }
    },
    {
      "cell_type": "markdown",
      "source": [
        "### 🔆 Example:  weight() function\n",
        "\n",
        "This example calculates the weight of an object (in Newtons) given the object's mass.\n",
        "* An optional second parameter lets the user specifiy the acceleration of gravity if it differs from 9.8 m/s^2"
      ],
      "metadata": {
        "id": "uPl7jNzcxp8x"
      }
    },
    {
      "cell_type": "code",
      "source": [
        "def weight(m,g=9.8):\n",
        "    return m*g\n",
        "\n",
        "# weight of a 100 kg mass on Earth\n",
        "# value of g is not specified (default is used)\n",
        "# only the mass is passed to the weight() function\n",
        "W = weight(100)\n",
        "print(f\"weight on Earth = {W:.0f} Newtons\")\n",
        "\n",
        "# weight of a 100 kg mass on the Moon (where g = 1.62 m/s^2)\n",
        "# both the mass and the value of g are passed to the function\n",
        "# you could also call the function like this:  weight(100,1.62) without specifying \"g=\"\n",
        "W = weight(100,g=1.62)\n",
        "print(f\"weight on Moon = {W:.0f} Newtons\")\n"
      ],
      "metadata": {
        "id": "SNeXtm2MtEdh",
        "colab": {
          "base_uri": "https://localhost:8080/"
        },
        "outputId": "00df08f5-2ff2-40e5-9356-5600cb4191de"
      },
      "execution_count": null,
      "outputs": [
        {
          "output_type": "stream",
          "name": "stdout",
          "text": [
            "weight on Earth = 980 Newtons\n",
            "weight on Moon = 162 Newtons\n"
          ]
        }
      ]
    },
    {
      "cell_type": "markdown",
      "source": [
        "##9.5 Functions may return a result using the `return` command.\n",
        "\n",
        "* Use `return` to give a value back to the caller.\n",
        "* The `return` command can occur anywhere in the function, but..\n",
        "* Functions are easier to understand if return occurs either (1) at the start to handle special cases or (2) at the very end, with a final result.\n"
      ],
      "metadata": {
        "id": "wr2z-wdxZSey"
      }
    },
    {
      "cell_type": "markdown",
      "source": [
        "### 🔆 Example:  Kinetic Energy\n",
        "\n",
        "* This example calculates and returns the kinetic energy of a particle given its mass and velocity."
      ],
      "metadata": {
        "id": "V3EP2q2AU-UR"
      }
    },
    {
      "cell_type": "code",
      "source": [
        "# define a function to calculate the kinetic energy\n",
        "# given the mass m and velocity v\n",
        "#\n",
        "def KE(m,v):\n",
        "    return 0.5 * m * v**2\n",
        "\n",
        "m = 100           # mass in kg\n",
        "v = 10            # velocity in m/s\n",
        "my_KE = KE(m,v)   # calculate kinetic energy\n",
        "\n",
        "print(f'Kinetic energy = {my_KE}')"
      ],
      "metadata": {
        "id": "352mFoydbNOC",
        "colab": {
          "base_uri": "https://localhost:8080/"
        },
        "outputId": "6f4c0297-ea78-42da-80dc-b30fa43c0032"
      },
      "execution_count": null,
      "outputs": [
        {
          "output_type": "stream",
          "name": "stdout",
          "text": [
            "Kinetic energy = 5000.0\n"
          ]
        }
      ]
    },
    {
      "cell_type": "markdown",
      "source": [
        "### ✅ Skill Check 2\n",
        "\n",
        "Once a function is defined, it can be used as many times as you want.\n",
        "* Use the `KE()` function to calculate the kinetic energy of a particle with mass 2 kg and a velocity 5 m/s.\n",
        "* Print and label your result"
      ],
      "metadata": {
        "id": "TEDR9zA0ojYO"
      }
    },
    {
      "cell_type": "code",
      "source": [
        "def KE(m,v):\n",
        "    return 0.5 * m * v**2\n",
        "m = 2 #kg\n",
        "v = 5 #m/s\n",
        "kinetic = KE(m,v)\n",
        "print(\"The Kinetic energy is,\",kinetic,'joules')"
      ],
      "metadata": {
        "id": "CgOY4k-mpZ4p",
        "colab": {
          "base_uri": "https://localhost:8080/"
        },
        "outputId": "c93517c2-d119-4417-8957-b2894e93ca8f"
      },
      "execution_count": null,
      "outputs": [
        {
          "output_type": "stream",
          "name": "stdout",
          "text": [
            "The Kinetic energy is, 25.0 joules\n"
          ]
        }
      ]
    },
    {
      "cell_type": "markdown",
      "source": [
        "### ✅ Skill Check 3\n",
        "\n",
        "Write a function the calculates and returns the equivalent resistance of two resistors wired in parallel:  $\\frac{1}{R_{eq}}=\\frac{1}{R_1} + \\frac{1}{R_1}$.\n",
        "* Test your function by calculating the equivalent resistance of resisters whose resistances are 10 $\\Omega$ and 20 $\\Omega$, respectively"
      ],
      "metadata": {
        "id": "MXmcuswnEDVt"
      }
    },
    {
      "cell_type": "code",
      "source": [
        "# your code here\n",
        "\n",
        "def resistor(r_1, r_2):\n",
        "    return 1/r_1 + 1/r_2\n",
        "r_1 = 10 # ohms\n",
        "r_2 = 20 #ohms\n",
        "r = resistor(r_1,r_2)\n",
        "print(\"The equivalent resistance of the resisters is \",r,\"Ohms\")\n"
      ],
      "metadata": {
        "id": "4jUNAkRee8ew",
        "colab": {
          "base_uri": "https://localhost:8080/"
        },
        "outputId": "ddaed76c-6535-4e5f-aec5-769ad2fe17ce"
      },
      "execution_count": null,
      "outputs": [
        {
          "output_type": "stream",
          "name": "stdout",
          "text": [
            "The equivalent resistance of the resisters is  0.15000000000000002 Ohms\n"
          ]
        }
      ]
    },
    {
      "cell_type": "markdown",
      "source": [
        "##9.6 Write functions robustly, so they can handle all the ways a user might use them\n",
        "\n",
        "* In the previous example we saw that the `average()` function threw an error if we passed it an empty array.\n",
        "* Let's modify our function so that it can handle empty arrays.\n",
        "* We'll test to see if the length of the passed list is zero and return a `None` if it is.\n"
      ],
      "metadata": {
        "id": "ZUD-rS4ma_gQ"
      }
    },
    {
      "cell_type": "markdown",
      "source": [
        "### 🔆 Average() function\n",
        "\n",
        "* Here's our function that takes the average of a list of numeric values\n",
        "* It checks to make sure the list isn't empty by making sure the length of the list is  > 0\n",
        "* If the passed list is empty, the function will return `None` instead of a numeric value"
      ],
      "metadata": {
        "id": "WQ-_RfKIe2V8"
      }
    },
    {
      "cell_type": "code",
      "source": [
        "def average(values):\n",
        "    if len(values) == 0:              # check to see if passed array is empty\n",
        "        return None\n",
        "    return sum(values) / len(values)\n",
        "\n",
        "print('average of empty list:', average([]))"
      ],
      "metadata": {
        "id": "0ZLABgPaZ6Fo",
        "colab": {
          "base_uri": "https://localhost:8080/"
        },
        "outputId": "91d0c4b8-2f7b-4b8b-d70e-4ac7dc8fb167"
      },
      "execution_count": null,
      "outputs": [
        {
          "output_type": "stream",
          "name": "stdout",
          "text": [
            "average of empty list: None\n"
          ]
        }
      ]
    },
    {
      "cell_type": "markdown",
      "source": [
        "* Every function returns something.\n",
        "* A function that doesn't explicitly return a value automatically returns None.\n"
      ],
      "metadata": {
        "id": "rPSP86LqaXA4"
      }
    },
    {
      "cell_type": "markdown",
      "source": [
        "## 9.7 Use functions to modularize your code\n",
        "\n",
        "It is tempting to just start writing the final version of your code that does everything you want. However experience suggests that (for all except the simplest programs) it is better to break your code into pieces and test each piece before combining them together into your final program.\n",
        "* This philosophy is like experimental physics:  only vary one variable at a time\n",
        "* It is much harder to debug a program that has multiple errors instead of just one.\n",
        "* Writing functions to handle dedicated tasks allows you to fully test each function before combining them into more complex applications\n",
        "\n",
        "Here's an example that shows how a function can help simplify code:"
      ],
      "metadata": {
        "id": "bYkcbODCfznZ"
      }
    },
    {
      "cell_type": "markdown",
      "source": [
        "### 🔆 Example:  Spring Force\n",
        "\n",
        "The function `spring_force()` calculates the force in 3D space applied by a spring with spring constant `k`. In vector form, the spring force is given by\n",
        "$\\vec{F}=-k(\\vec{r}-\\vec{r}_0)$.\n",
        "\n",
        "Passed parameters:\n",
        "\n",
        "* `r0` = NumPy array containing x, y, z components of position where the spring is anchored\n",
        "* `r` = NumPy array containing x, y, z components of the other end of the spring (where the force is calculated)\n",
        "* `k` = spring constant\n",
        "\n",
        "Returned array:\n",
        "* `F` = NumPy array containing x, y, z components of the force exerted by the spring"
      ],
      "metadata": {
        "id": "D5-ghTd4f5q2"
      }
    },
    {
      "cell_type": "code",
      "source": [
        "import numpy as np\n",
        "\n",
        "def spring_force(r,r0,k):\n",
        "    d = r-r0                 # vector displacement of spring (r0 to r)\n",
        "    F = -k*d                 # vector force acting on point r\n",
        "    return F\n",
        "\n",
        "r  = np.array([1,1,0])       # 3D position of end of spring\n",
        "r0 = np.array([0,0,0])       # 3D position where spring is anchored\n",
        "k  = 2                       # spring force\n",
        "\n",
        "F0 = spring_force(r,r0,k)    # calculate and print the spring force\n",
        "print(\"force = \",F0)"
      ],
      "metadata": {
        "id": "WK8iLWnfgTil",
        "colab": {
          "base_uri": "https://localhost:8080/"
        },
        "outputId": "a01d4200-f10c-4bdb-9d93-4f5881feca9c"
      },
      "execution_count": null,
      "outputs": [
        {
          "output_type": "stream",
          "name": "stdout",
          "text": [
            "force =  [-2 -2  0]\n"
          ]
        }
      ]
    },
    {
      "cell_type": "markdown",
      "source": [
        "Running this code shows that the spring pulls the free end, down and to the left (both x and y are negative).\n",
        "\n",
        "We can now use our spring function to add a second spring at (2,0,0) and calculate the net force.\n",
        "* This time, we'll pass the position vector of the second spring's anchor [2,0,0] directly to the function."
      ],
      "metadata": {
        "id": "El9Q3VUAgtfL"
      }
    },
    {
      "cell_type": "code",
      "source": [
        "\n",
        "# Calculate force from a second spring\n",
        "F1 = spring_force(r,[2,0,0],k)\n",
        "\n",
        "# add the two spring forces to get net force\n",
        "Fnet = F0 + F1\n",
        "\n",
        "print(\"first force  = \",F1)\n",
        "print(\"second force = \",F1)\n",
        "print(\"net force    = \",Fnet)"
      ],
      "metadata": {
        "id": "LP-sYslUz_4A",
        "colab": {
          "base_uri": "https://localhost:8080/"
        },
        "outputId": "0a33030a-cb6a-4582-89a1-6b6d97335538"
      },
      "execution_count": null,
      "outputs": [
        {
          "output_type": "stream",
          "name": "stdout",
          "text": [
            "first force  =  [ 2 -2  0]\n",
            "second force =  [ 2 -2  0]\n",
            "net force    =  [ 0 -4  0]\n"
          ]
        }
      ]
    },
    {
      "cell_type": "markdown",
      "source": [
        "* We see that the second force pulls down and to the right.\n",
        "* The net force pulls straight down since the x components of the first two forces cancel"
      ],
      "metadata": {
        "id": "jmYV9duVtOH0"
      }
    },
    {
      "cell_type": "markdown",
      "source": [
        "### ✅ Skill Check 4\n",
        "\n",
        "* Calculate the net force due to a set of 24 springs anchored to and uniformly arranged on the unit circle in the x-y plane.\n",
        "* Let the free ends of the springs be at (5,0,5).\n",
        "\n"
      ],
      "metadata": {
        "id": "RoVEcLietubL"
      }
    },
    {
      "cell_type": "code",
      "source": [
        "def spring_force(r,r0,k):\n",
        "    d = r-r0                 # vector displacement of spring (r0 to r)\n",
        "    F = -k*d                 # vector force acting on point r\n",
        "    return F\n",
        "\n",
        "\n",
        "\n",
        "r = np.array([5,0,5]) #free end of spring\n",
        "n = 24 #this is the amount of springs\n",
        "d_theta = 2*np.pi/n\n",
        "F_net = np.zeros(3)\n",
        "for a in range(n):\n",
        "    theta = n * d_theta\n",
        "    x = np.cos(theta)\n",
        "    y = np.sin(theta)\n",
        "    r0 = np.array([x,y,0])\n",
        "    F = spring_force(r,r0,k)\n",
        "\n",
        "    F_net += F\n",
        "    print(F_net)"
      ],
      "metadata": {
        "colab": {
          "base_uri": "https://localhost:8080/"
        },
        "id": "aEy3NxsUbn3h",
        "outputId": "5ae14681-993d-4773-ed13-956f7e982189"
      },
      "execution_count": null,
      "outputs": [
        {
          "output_type": "stream",
          "name": "stdout",
          "text": [
            "[-8.0000000e+00 -4.8985872e-16 -1.0000000e+01]\n",
            "[-8.0000000e+00 -4.8985872e-16 -1.0000000e+01]\n",
            "[-8.0000000e+00 -4.8985872e-16 -1.0000000e+01]\n",
            "[-8.0000000e+00 -4.8985872e-16 -1.0000000e+01]\n",
            "[-8.0000000e+00 -4.8985872e-16 -1.0000000e+01]\n",
            "[-8.0000000e+00 -4.8985872e-16 -1.0000000e+01]\n",
            "[-8.0000000e+00 -4.8985872e-16 -1.0000000e+01]\n",
            "[-8.0000000e+00 -4.8985872e-16 -1.0000000e+01]\n",
            "[-8.0000000e+00 -4.8985872e-16 -1.0000000e+01]\n",
            "[-8.0000000e+00 -4.8985872e-16 -1.0000000e+01]\n",
            "[-8.0000000e+00 -4.8985872e-16 -1.0000000e+01]\n",
            "[-8.0000000e+00 -4.8985872e-16 -1.0000000e+01]\n",
            "[-8.0000000e+00 -4.8985872e-16 -1.0000000e+01]\n",
            "[-8.0000000e+00 -4.8985872e-16 -1.0000000e+01]\n",
            "[-8.0000000e+00 -4.8985872e-16 -1.0000000e+01]\n",
            "[-8.0000000e+00 -4.8985872e-16 -1.0000000e+01]\n",
            "[-8.0000000e+00 -4.8985872e-16 -1.0000000e+01]\n",
            "[-8.0000000e+00 -4.8985872e-16 -1.0000000e+01]\n",
            "[-8.0000000e+00 -4.8985872e-16 -1.0000000e+01]\n",
            "[-8.0000000e+00 -4.8985872e-16 -1.0000000e+01]\n",
            "[-8.0000000e+00 -4.8985872e-16 -1.0000000e+01]\n",
            "[-8.0000000e+00 -4.8985872e-16 -1.0000000e+01]\n",
            "[-8.0000000e+00 -4.8985872e-16 -1.0000000e+01]\n",
            "[-8.0000000e+00 -4.8985872e-16 -1.0000000e+01]\n"
          ]
        }
      ]
    },
    {
      "cell_type": "markdown",
      "source": [
        "### ✅ Skill Check 5\n",
        "\n",
        "Write a function to calculate and return the electric field at position `r` given a point charge `q` at position `r0`. Assume `r` and `r0` are  NumPy arrays, each with length 3 whose elements are the x, y, z components. Hint: a convient way of writing the electric field from a point charge is\n",
        "$\\vec{E} = \\frac{1}{4 \\pi \\epsilon_0} \\frac{\\vec{r}-\\vec{r}_0}{|\\vec{r}-\\vec{r}_0|^3}$.\n",
        "\n",
        "Passed parameters:\n",
        "* `r` = NumPy array (length 3) containing x, y, z components\n",
        "* `r0` = NumPy array (length 3) containing x, y, z components of the point charge\n",
        "* `q0` = charge of the point charge\n",
        "\n",
        "Returned values:\n",
        "* `E` = electrostatic force vector\n",
        "\n",
        "Test your function with the following passed parameters:\n",
        "* `r  = (10,0,2)`\n",
        "* `r0 = (0,0,0)`\n",
        "* `q0 = 1e-6`\n",
        "\n",
        "print the electric field vector."
      ],
      "metadata": {
        "id": "5gTATfuGMZhg"
      }
    },
    {
      "cell_type": "code",
      "source": [
        "#  Your code here\n",
        "import numpy as np\n",
        "def electric_field(r, q, r_0):\n",
        "\n",
        "    r = np.array([10,0,2])\n",
        "    r_0 = np.array([0,0,0])\n",
        "    q = 1e-6\n",
        "    E_0 = 1/4*np.pi*8.85e-12*(r-r_0/np.abs(r-r_0)**3)\n",
        "    return E_0\n",
        "    E = electric_field(r, q, r_0)\n",
        "\n",
        "print('electric field',E)\n"
      ],
      "metadata": {
        "id": "OJXsOLelrBIs",
        "outputId": "79cc18dc-877a-4f2d-ef55-acc829cad99a",
        "colab": {
          "base_uri": "https://localhost:8080/"
        }
      },
      "execution_count": 23,
      "outputs": [
        {
          "output_type": "stream",
          "name": "stdout",
          "text": [
            "electric field None\n"
          ]
        }
      ]
    },
    {
      "cell_type": "markdown",
      "source": [
        "### ✅ SKill Check 6\n",
        "\n",
        "Use the electric field function defined is Skill Check 5 to calculate the electric field from a dipole, made of the following two charges:\n",
        "* charge 1:  $q1=+10^{-6}$ C at $\\vec{r}_1 = (0,0,0.1m)$\n",
        "* charge 2:  $q1=-10^{-6}$ C at $\\vec{r}_1 = (0,0,-0.1m)$\n",
        "\n",
        "Calculate the field at the following locations and print the results:\n",
        "\n",
        "a) $\\vec{r} = (10m,0,0)$\n",
        "\n",
        "b) $\\vec{r} = (10m,0,10m)$\n",
        "\n",
        "c) $\\vec{r} = (0,0,10m)$\n",
        "\n",
        "d) $\\vec{r} = (0,0,-10m)$\n",
        "\n",
        "Do your results make sense?"
      ],
      "metadata": {
        "id": "gR6DR4kyb0Vn"
      }
    },
    {
      "cell_type": "code",
      "source": [
        "q_1 = 10e-6\n",
        "q_2 = -10e-6\n",
        "r = np.array([0,0,1])\n",
        "r_0 = np.array([0,0,-0.1])\n",
        "E_0 = 1/4*np.pi*8.85e-12*(r-r_0/np.abs(r-r_0)**3)\n",
        "\n",
        "E = electric_field(r, q, r_0)\n",
        "\n",
        "print('electric field',E)\n"
      ],
      "metadata": {
        "id": "fcMoTIEQ4igx"
      },
      "execution_count": null,
      "outputs": []
    },
    {
      "cell_type": "markdown",
      "source": [
        "### ✅ Skill Check 7\n",
        "\n",
        "Write a function that generates a noisy sine wave. Here are the specs:\n",
        "\n",
        "Passed parameters:\n",
        "* signal-to-noise ratio\n",
        "* Number of data points (default value = 200)\n",
        "* maximum time (default value = 1)\n",
        "* period of sine wave (default value = 1)\n",
        "* sine wave amplitude (default value = 1)\n",
        "* verbose flag (default value = True, which prints mean and standard deviation of dataset. If False, no message is printed).\n",
        "\n",
        "Returned values:\n",
        "* 2D array where first column = times and second column = noisy sine wave values\n",
        "\n",
        "The noisy sine wave can be written as $y = B z_{norm} + A\\sin(2\\pi t/ P)$, where\n",
        "* $z_{norm}=$ random number drawn from normal distribution with mean = 0 and standard deviation = 1.\n",
        "* $B=$ amplitude of noise\n",
        "* $A = $ amplitude of the sine wave\n",
        "* $t=$ time\n",
        "* $P=$ period of sine wave\n",
        "\n",
        "The signal-to-noise ratio (SNR) is given by $SNR = A/B$. Since both $A$ and $SNR$ are specified as passed parameters, you will need to calculate $B$ using this formula.\n",
        "\n",
        "Comments have been created describing how to use the noisy_sin() function.\n",
        "\n",
        "Run your code (with the verbose flag = True) for the following parameter combinations:\n",
        "* ```noisy_sin(1)```\n"
      ],
      "metadata": {
        "id": "WMKw2rdoo2Ae"
      }
    },
    {
      "cell_type": "code",
      "source": [
        "import numpy as np\n",
        "import matplotlib.pyplot as plt\n",
        "# noisy_sin() function returns a noisy sine wave\n",
        "#\n",
        "# passed parameters:\n",
        "#    SNR     = signal-to-noise ratio\n",
        "#    N       = number of data points\n",
        "#    tmax    = maximum time\n",
        "#    P       = period of sine wave\n",
        "#    A       = amplitude of sine wave\n",
        "#    verbose = flag to print statistics about the generated wave\n",
        "#\n",
        "# returned parameters:\n",
        "#    data    = 2D array where: column 1 = time values,\n",
        "#                              column 2 = noise sine wave values\n",
        "#\n",
        "\n",
        "\n",
        "def noisy_sin(SNR, N=200,tmax=1, P=1, A=1,verbose=True):\n",
        "   # creating an array of time values from 0 to tmax\n",
        "    t = np.linspace(0,tmax,N)\n",
        "#create noisy time series\n",
        "    rng = np.random.default_rng()\n",
        "    z = rng.normal(N) #times the number of data points\n",
        "    B = A / SNR\n",
        "    y = A * np.sin(2*np.pi*t/P)\n",
        "    print(\"B = \",B)\n",
        "    #printing stats\n",
        "    if verbose == True:\n",
        "        print(f\"mean and std is = {y.mean():.2f} +- {y.std():.2f}\")\n",
        "#stacking 1d array into a 2D array\n",
        "    #data = np.array((t,y))\n",
        "\n",
        "    data = np.column_stack((t,y))\n",
        "    return data\n",
        "data = noisy_sin(1)\n",
        "t = data[:,0]\n",
        "y = data[:,1]\n",
        "\n",
        "plt.plot(t,y,'blue')\n",
        "plt.show()"
      ],
      "metadata": {
        "id": "8fdeLsz01Ng_",
        "colab": {
          "base_uri": "https://localhost:8080/",
          "height": 465
        },
        "outputId": "4772ae4a-3a31-4c11-c484-7dbf175636d3"
      },
      "execution_count": null,
      "outputs": [
        {
          "output_type": "stream",
          "name": "stdout",
          "text": [
            "B =  1.0\n",
            "mean and std is = 0.00 +- 0.71\n"
          ]
        },
        {
          "output_type": "display_data",
          "data": {
            "text/plain": [
              "<Figure size 640x480 with 1 Axes>"
            ],
            "image/png": "[encoded data removed]"
          },
          "metadata": {}
        }
      ]
    },
    {
      "cell_type": "markdown",
      "source": [
        "### **Key Points**\n",
        "\n",
        "* Break programs into functions to make them easier to undertsand\n",
        "* Functions are created with a `def` statement, and the body is indented\n",
        "* Defining a function does not run it. You need to call the function once it is defined\n",
        "* Arguments in the calling function are matched to the parameters in the definition\n",
        "* Alternatively, if you name the arguments when you call the function, you can pass them in any order\n",
        "* Functions may return a result using the `return` statement\n",
        "* Write functions robustly, so they can handle all the ways a user might use them\n",
        "* Use functions to modularize your code"
      ],
      "metadata": {
        "id": "yLLbwG8KOwuy"
      }
    },
    {
      "cell_type": "markdown",
      "source": [
        "This tutorial is an adaptation of \"[Python for Physicists](https://lucydot.github.io/python_novice/)\"\n",
        "© [Software Carpentry](http://software-carpentry.org/)\n"
      ],
      "metadata": {
        "id": "5pnXdFvAhvCZ"
      }
    }
  ]
}